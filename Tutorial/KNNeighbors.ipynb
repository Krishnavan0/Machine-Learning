{
 "cells": [
  {
   "cell_type": "code",
   "execution_count": 1,
   "metadata": {},
   "outputs": [],
   "source": [
    "# Problem Statement\n",
    "'''A retail company wants to predict customer purchasing behavior based on their age, salary, and past purchase history.\n",
    "The company aims to use the K-Nearest Neighbors (KNN) algorithm to classify customers into potential buying groups two \n",
    "personalize marketing strategies. This predictive model will help the company understand and target specific customer segments \n",
    "more efficiently, thereby increasing sales and customer satisfactions'''\n"
   ]
  },
  {
   "cell_type": "code",
   "execution_count": null,
   "metadata": {},
   "outputs": [],
   "source": [
    "# step no 1\n",
    "import pandas as pd\n",
    "import numpy as np\n",
    "from sklearn.model_selection import train_test_split\n",
    "from sklearn.preprocessing import StandardScaler\n",
    "from sklearn.neighbors import KNeighborsClassifier"
   ]
  },
  {
   "cell_type": "code",
   "execution_count": 2,
   "metadata": {},
   "outputs": [],
   "source": [
    "# step no 2\n",
    "data = np.array([[25,50000,2],[30,80000,1],[35,60000,3],[20,30000,2],[40,90000,1],[45,75000,1]])\n",
    "labels = np.array([[1,2,1,0,2,1]]) # Low: 0, Medium: 1, Hard: 2\n",
    "data = pd.DataFrame(data)\n",
    "labels = pd.DataFrame(labels.T)"
   ]
  },
  {
   "cell_type": "code",
   "execution_count": 4,
   "metadata": {},
   "outputs": [],
   "source": [
    "# step no 3\n",
    "X_train, X_test, Y_train, Y_test = train_test_split(data,labels, test_size=0.2,random_state=42)\n",
    "\n",
    "scalar = StandardScaler()\n",
    "X_train = scalar.fit_transform(X_train)\n",
    "X_test = scalar.fit_transform(X_test)\n",
    "\n",
    "knn = KNeighborsClassifier(n_neighbors=3)\n",
    "knn.fit(X_train,Y_train)\n",
    "\n",
    "accuracy = knn.score(X_test,Y_test)\n",
    "print(f\"Model accuracy: {accuracy}\")"
   ]
  },
  {
   "cell_type": "code",
   "execution_count": 6,
   "metadata": {},
   "outputs": [
    {
     "data": {
      "text/plain": [
       "1"
      ]
     },
     "execution_count": 6,
     "metadata": {},
     "output_type": "execute_result"
    }
   ],
   "source": [
    "# user input testing\n",
    "user_input = np.array([[32,70000,2]])\n",
    "user_input_scaled = scalar.transform(user_input)\n",
    "knn.predict(user_input_scaled)[0]"
   ]
  }
 ],
 "metadata": {
  "kernelspec": {
   "display_name": "Python 3 (ipykernel)",
   "language": "python",
   "name": "python3"
  },
  "language_info": {
   "codemirror_mode": {
    "name": "ipython",
    "version": 3
   },
   "file_extension": ".py",
   "mimetype": "text/x-python",
   "name": "python",
   "nbconvert_exporter": "python",
   "pygments_lexer": "ipython3",
   "version": "3.12.0"
  }
 },
 "nbformat": 4,
 "nbformat_minor": 4
}
