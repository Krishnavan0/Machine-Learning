{
 "cells": [
  {
   "cell_type": "code",
   "execution_count": 1,
   "metadata": {},
   "outputs": [
    {
     "data": {
      "text/plain": [
       "\"Predict a student's final exam score based on the number of hours they study.\""
      ]
     },
     "execution_count": 1,
     "metadata": {},
     "output_type": "execute_result"
    }
   ],
   "source": [
    "# Problem Statement\n",
    "'''Predict a student's final exam score based on the number of hours they study.'''"
   ]
  },
  {
   "cell_type": "code",
   "execution_count": 2,
   "metadata": {},
   "outputs": [],
   "source": [
    "# step no 1\n",
    "import pandas as pd\n",
    "import numpy as np\n",
    "from sklearn.model_selection import train_test_split\n",
    "from sklearn.linear_model import LinearRegression"
   ]
  },
  {
   "cell_type": "code",
   "execution_count": 3,
   "metadata": {},
   "outputs": [
    {
     "name": "stdout",
     "output_type": "stream",
     "text": [
      "Predicted Exam Score: 70\n"
     ]
    },
    {
     "name": "stderr",
     "output_type": "stream",
     "text": [
      "c:\\Users\\Krish\\AppData\\Local\\Programs\\Python\\Python312\\Lib\\site-packages\\sklearn\\base.py:465: UserWarning: X does not have valid feature names, but LinearRegression was fitted with feature names\n",
      "  warnings.warn(\n"
     ]
    }
   ],
   "source": [
    "# step no 2\n",
    "studentdata = {'hours_study':[2,3,4,5,6,7,8,9,10], 'Exam_score': [51,57,64,72,79,85,88,92,95]}\n",
    "\n",
    "# step no 3\n",
    "studentdata = pd.DataFrame(studentdata)\n",
    "\n",
    "# step no 4\n",
    "X = studentdata[['hours_study']]\n",
    "Y = studentdata[['Exam_score']]\n",
    "\n",
    "# step no 5\n",
    "X_train, X_test, Y_train, Y_test = train_test_split(X,Y, test_size=0.2,random_state=42)\n",
    "\n",
    "# step no 6\n",
    "model = LinearRegression()\n",
    "\n",
    "# step no 7\n",
    "model.fit(X_train,Y_train)\n",
    "\n",
    "# user input testing\n",
    "user_input = float(input(\"Enter the number of hours you study: \"))\n",
    "\n",
    "predicted_score = model.predict([[user_input]])\n",
    "\n",
    "# printing the output\n",
    "print(f\"Predicted Exam Score: {int(predicted_score[0][0])}\")"
   ]
  }
 ],
 "metadata": {
  "kernelspec": {
   "display_name": "Python 3 (ipykernel)",
   "language": "python",
   "name": "python3"
  },
  "language_info": {
   "codemirror_mode": {
    "name": "ipython",
    "version": 3
   },
   "file_extension": ".py",
   "mimetype": "text/x-python",
   "name": "python",
   "nbconvert_exporter": "python",
   "pygments_lexer": "ipython3",
   "version": "3.12.0"
  }
 },
 "nbformat": 4,
 "nbformat_minor": 4
}
