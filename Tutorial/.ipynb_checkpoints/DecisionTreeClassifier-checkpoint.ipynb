{
 "cells": [
  {
   "cell_type": "code",
   "execution_count": null,
   "id": "d70b334b-ee12-44c9-b079-3219aa2a4d78",
   "metadata": {},
   "outputs": [],
   "source": [
    "# Problem Statement\n",
    "'''You have been tasked with creating a decision tree model to predict whether a person is likely to purchase a new smartphone \n",
    "based on their age, income, and education level. You are provided with a dataset containing these attributes and the target \n",
    "variable indicating whether the person made a purchase or not.'''"
   ]
  },
  {
   "cell_type": "code",
   "execution_count": null,
   "id": "1892087c",
   "metadata": {},
   "outputs": [],
   "source": [
    "# step no 1\n",
    "import pandas as pd\n",
    "import numpy as np\n",
    "from sklearn.model_selection import train_test_split\n",
    "from sklearn.metrics import accuracy_score\n",
    "from sklearn.tree import DecisionTreeClassifier"
   ]
  },
  {
   "cell_type": "code",
   "execution_count": null,
   "id": "1851b734",
   "metadata": {},
   "outputs": [],
   "source": [
    "# step no 2\n",
    "data = np.array([[25,50000,3],[35,90000,2],[40,60000,5],[45,80000,3],[20,30000,2],[55,120000,4],[28,40000,1],[32,100000,2],[38,75000,2]])\n",
    "labels = np.array([[0,1,1,0,1,0,1,0,1]]) # Low: 0, Medium: 1, Hard: 2\n",
    "data = pd.DataFrame(data)\n",
    "labels = pd.DataFrame(labels.T)"
   ]
  },
  {
   "cell_type": "code",
   "execution_count": null,
   "id": "8fffa5e7",
   "metadata": {},
   "outputs": [],
   "source": [
    "# step no 3\n",
    "X_train, X_test, Y_train, Y_test = train_test_split(data,labels, test_size=0.2,random_state=42)\n",
    "\n",
    "# step no 4\n",
    "model = DecisionTreeClassifier()\n",
    "model.fit(X_train,Y_train)\n",
    "\n",
    "# step no 5\n",
    "Y_pred = model.predict(X_test)\n",
    "accuracy = accuracy_score(Y_test, Y_pred)\n",
    "accuracy"
   ]
  },
  {
   "cell_type": "code",
   "execution_count": null,
   "id": "4d6223b7",
   "metadata": {},
   "outputs": [],
   "source": [
    "# user input testing\n",
    "age = float(input(\"Enter your age: \"))\n",
    "income = float(input(\"Enter your income: \"))\n",
    "education = float(input(\"Enter your Education Level: \"))\n",
    "\n",
    "user_input = np.array([[age,income,education]])\n",
    "prediction = model.predict(user_input)\n",
    "if prediction[0] == 1:\n",
    "    print(\"The user is likely to purchase a smartphone\")\n",
    "else:\n",
    "    print(\"The user is unlikely to purchase a smartphone\")\n"
   ]
  }
 ],
 "metadata": {
  "kernelspec": {
   "display_name": "Python 3 (ipykernel)",
   "language": "python",
   "name": "python3"
  },
  "language_info": {
   "codemirror_mode": {
    "name": "ipython",
    "version": 3
   },
   "file_extension": ".py",
   "mimetype": "text/x-python",
   "name": "python",
   "nbconvert_exporter": "python",
   "pygments_lexer": "ipython3",
   "version": "3.12.0"
  }
 },
 "nbformat": 4,
 "nbformat_minor": 5
}
