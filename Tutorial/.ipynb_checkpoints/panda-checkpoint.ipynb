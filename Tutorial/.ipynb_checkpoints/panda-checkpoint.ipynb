{
 "cells": [
  {
   "cell_type": "code",
   "execution_count": 5,
   "metadata": {},
   "outputs": [],
   "source": [
    "import pandas as pd\n",
    "import numpy as np"
   ]
  },
  {
   "cell_type": "code",
   "execution_count": 42,
   "metadata": {},
   "outputs": [],
   "source": [
    "actor = pd.read_csv('./actorfilms.csv')"
   ]
  },
  {
   "cell_type": "code",
   "execution_count": 7,
   "metadata": {},
   "outputs": [
    {
     "data": {
      "text/html": [
       "<div>\n",
       "<style scoped>\n",
       "    .dataframe tbody tr th:only-of-type {\n",
       "        vertical-align: middle;\n",
       "    }\n",
       "\n",
       "    .dataframe tbody tr th {\n",
       "        vertical-align: top;\n",
       "    }\n",
       "\n",
       "    .dataframe thead th {\n",
       "        text-align: right;\n",
       "    }\n",
       "</style>\n",
       "<table border=\"1\" class=\"dataframe\">\n",
       "  <thead>\n",
       "    <tr style=\"text-align: right;\">\n",
       "      <th></th>\n",
       "      <th>Actor</th>\n",
       "      <th>ActorID</th>\n",
       "      <th>Film</th>\n",
       "      <th>Year</th>\n",
       "      <th>Votes</th>\n",
       "      <th>Rating</th>\n",
       "      <th>FilmID</th>\n",
       "    </tr>\n",
       "  </thead>\n",
       "  <tbody>\n",
       "    <tr>\n",
       "      <th>0</th>\n",
       "      <td>Fred Astaire</td>\n",
       "      <td>nm0000001</td>\n",
       "      <td>Ghost Story</td>\n",
       "      <td>1981</td>\n",
       "      <td>7731</td>\n",
       "      <td>6.3</td>\n",
       "      <td>tt0082449</td>\n",
       "    </tr>\n",
       "    <tr>\n",
       "      <th>1</th>\n",
       "      <td>Fred Astaire</td>\n",
       "      <td>nm0000001</td>\n",
       "      <td>The Purple Taxi</td>\n",
       "      <td>1977</td>\n",
       "      <td>533</td>\n",
       "      <td>6.6</td>\n",
       "      <td>tt0076851</td>\n",
       "    </tr>\n",
       "    <tr>\n",
       "      <th>2</th>\n",
       "      <td>Fred Astaire</td>\n",
       "      <td>nm0000001</td>\n",
       "      <td>The Amazing Dobermans</td>\n",
       "      <td>1976</td>\n",
       "      <td>369</td>\n",
       "      <td>5.3</td>\n",
       "      <td>tt0074130</td>\n",
       "    </tr>\n",
       "    <tr>\n",
       "      <th>3</th>\n",
       "      <td>Fred Astaire</td>\n",
       "      <td>nm0000001</td>\n",
       "      <td>The Towering Inferno</td>\n",
       "      <td>1974</td>\n",
       "      <td>39888</td>\n",
       "      <td>7.0</td>\n",
       "      <td>tt0072308</td>\n",
       "    </tr>\n",
       "    <tr>\n",
       "      <th>4</th>\n",
       "      <td>Fred Astaire</td>\n",
       "      <td>nm0000001</td>\n",
       "      <td>Midas Run</td>\n",
       "      <td>1969</td>\n",
       "      <td>123</td>\n",
       "      <td>4.8</td>\n",
       "      <td>tt0064664</td>\n",
       "    </tr>\n",
       "    <tr>\n",
       "      <th>...</th>\n",
       "      <td>...</td>\n",
       "      <td>...</td>\n",
       "      <td>...</td>\n",
       "      <td>...</td>\n",
       "      <td>...</td>\n",
       "      <td>...</td>\n",
       "      <td>...</td>\n",
       "    </tr>\n",
       "    <tr>\n",
       "      <th>191868</th>\n",
       "      <td>Roman Griffin Davis</td>\n",
       "      <td>nm9877392</td>\n",
       "      <td>Jojo Rabbit</td>\n",
       "      <td>2019</td>\n",
       "      <td>310904</td>\n",
       "      <td>7.9</td>\n",
       "      <td>tt2584384</td>\n",
       "    </tr>\n",
       "    <tr>\n",
       "      <th>191869</th>\n",
       "      <td>Lexi Rabe</td>\n",
       "      <td>nm9962642</td>\n",
       "      <td>Silk Road</td>\n",
       "      <td>2021</td>\n",
       "      <td>2050</td>\n",
       "      <td>5.9</td>\n",
       "      <td>tt7937254</td>\n",
       "    </tr>\n",
       "    <tr>\n",
       "      <th>191870</th>\n",
       "      <td>Lexi Rabe</td>\n",
       "      <td>nm9962642</td>\n",
       "      <td>Avengers: Endgame</td>\n",
       "      <td>2019</td>\n",
       "      <td>849079</td>\n",
       "      <td>8.4</td>\n",
       "      <td>tt4154796</td>\n",
       "    </tr>\n",
       "    <tr>\n",
       "      <th>191871</th>\n",
       "      <td>Lexi Rabe</td>\n",
       "      <td>nm9962642</td>\n",
       "      <td>Godzilla: King of the Monsters</td>\n",
       "      <td>2019</td>\n",
       "      <td>146737</td>\n",
       "      <td>6.0</td>\n",
       "      <td>tt3741700</td>\n",
       "    </tr>\n",
       "    <tr>\n",
       "      <th>191872</th>\n",
       "      <td>Inde Navarrette</td>\n",
       "      <td>nm9984699</td>\n",
       "      <td>Wander Darkly</td>\n",
       "      <td>2020</td>\n",
       "      <td>776</td>\n",
       "      <td>5.8</td>\n",
       "      <td>tt8902978</td>\n",
       "    </tr>\n",
       "  </tbody>\n",
       "</table>\n",
       "<p>191873 rows × 7 columns</p>\n",
       "</div>"
      ],
      "text/plain": [
       "                      Actor    ActorID                            Film  Year  \\\n",
       "0              Fred Astaire  nm0000001                     Ghost Story  1981   \n",
       "1              Fred Astaire  nm0000001                 The Purple Taxi  1977   \n",
       "2              Fred Astaire  nm0000001           The Amazing Dobermans  1976   \n",
       "3              Fred Astaire  nm0000001            The Towering Inferno  1974   \n",
       "4              Fred Astaire  nm0000001                       Midas Run  1969   \n",
       "...                     ...        ...                             ...   ...   \n",
       "191868  Roman Griffin Davis  nm9877392                     Jojo Rabbit  2019   \n",
       "191869            Lexi Rabe  nm9962642                       Silk Road  2021   \n",
       "191870            Lexi Rabe  nm9962642               Avengers: Endgame  2019   \n",
       "191871            Lexi Rabe  nm9962642  Godzilla: King of the Monsters  2019   \n",
       "191872      Inde Navarrette  nm9984699                   Wander Darkly  2020   \n",
       "\n",
       "         Votes  Rating     FilmID  \n",
       "0         7731     6.3  tt0082449  \n",
       "1          533     6.6  tt0076851  \n",
       "2          369     5.3  tt0074130  \n",
       "3        39888     7.0  tt0072308  \n",
       "4          123     4.8  tt0064664  \n",
       "...        ...     ...        ...  \n",
       "191868  310904     7.9  tt2584384  \n",
       "191869    2050     5.9  tt7937254  \n",
       "191870  849079     8.4  tt4154796  \n",
       "191871  146737     6.0  tt3741700  \n",
       "191872     776     5.8  tt8902978  \n",
       "\n",
       "[191873 rows x 7 columns]"
      ]
     },
     "execution_count": 7,
     "metadata": {},
     "output_type": "execute_result"
    }
   ],
   "source": [
    "actor"
   ]
  },
  {
   "cell_type": "code",
   "execution_count": 8,
   "metadata": {},
   "outputs": [
    {
     "name": "stdout",
     "output_type": "stream",
     "text": [
      "<class 'pandas.core.frame.DataFrame'>\n",
      "RangeIndex: 191873 entries, 0 to 191872\n",
      "Data columns (total 7 columns):\n",
      " #   Column   Non-Null Count   Dtype  \n",
      "---  ------   --------------   -----  \n",
      " 0   Actor    191873 non-null  object \n",
      " 1   ActorID  191873 non-null  object \n",
      " 2   Film     191873 non-null  object \n",
      " 3   Year     191873 non-null  int64  \n",
      " 4   Votes    191873 non-null  int64  \n",
      " 5   Rating   191873 non-null  float64\n",
      " 6   FilmID   191873 non-null  object \n",
      "dtypes: float64(1), int64(2), object(4)\n",
      "memory usage: 10.2+ MB\n"
     ]
    }
   ],
   "source": [
    "actor.info()"
   ]
  },
  {
   "cell_type": "code",
   "execution_count": 9,
   "metadata": {},
   "outputs": [
    {
     "data": {
      "text/plain": [
       "array(['Fred Astaire', 'Lauren Bacall', 'Brigitte Bardot', ...,\n",
       "       'Roman Griffin Davis', 'Lexi Rabe', 'Inde Navarrette'],\n",
       "      dtype=object)"
      ]
     },
     "execution_count": 9,
     "metadata": {},
     "output_type": "execute_result"
    }
   ],
   "source": [
    "actor['Actor'].unique()"
   ]
  },
  {
   "cell_type": "code",
   "execution_count": 39,
   "metadata": {},
   "outputs": [],
   "source": [
    "def actormaovie(actorname):\n",
    "    mask = actor['Actor'] == actorname\n",
    "    return actor[mask]\n",
    "    # .shape[0]"
   ]
  },
  {
   "cell_type": "code",
   "execution_count": 57,
   "metadata": {},
   "outputs": [
    {
     "data": {
      "text/html": [
       "<div>\n",
       "<style scoped>\n",
       "    .dataframe tbody tr th:only-of-type {\n",
       "        vertical-align: middle;\n",
       "    }\n",
       "\n",
       "    .dataframe tbody tr th {\n",
       "        vertical-align: top;\n",
       "    }\n",
       "\n",
       "    .dataframe thead th {\n",
       "        text-align: right;\n",
       "    }\n",
       "</style>\n",
       "<table border=\"1\" class=\"dataframe\">\n",
       "  <thead>\n",
       "    <tr style=\"text-align: right;\">\n",
       "      <th></th>\n",
       "      <th>Actor</th>\n",
       "      <th>ActorID</th>\n",
       "      <th>Film</th>\n",
       "      <th>Year</th>\n",
       "      <th>Votes</th>\n",
       "      <th>Rating</th>\n",
       "      <th>FilmID</th>\n",
       "    </tr>\n",
       "  </thead>\n",
       "  <tbody>\n",
       "  </tbody>\n",
       "</table>\n",
       "</div>"
      ],
      "text/plain": [
       "Empty DataFrame\n",
       "Columns: [Actor, ActorID, Film, Year, Votes, Rating, FilmID]\n",
       "Index: []"
      ]
     },
     "execution_count": 57,
     "metadata": {},
     "output_type": "execute_result"
    }
   ],
   "source": [
    "actormaovie('Sadie Sink')"
   ]
  },
  {
   "cell_type": "code",
   "execution_count": 55,
   "metadata": {},
   "outputs": [
    {
     "data": {
      "text/plain": [
       "<Axes: ylabel='Actor'>"
      ]
     },
     "execution_count": 55,
     "metadata": {},
     "output_type": "execute_result"
    },
    {
     "data": {
      "image/png": "[encoded data removed]",
      "text/plain": [
       "<Figure size 640x480 with 1 Axes>"
      ]
     },
     "metadata": {},
     "output_type": "display_data"
    }
   ],
   "source": [
    "actor.value_counts('Actor').head(20).plot(kind='barh')"
   ]
  },
  {
   "cell_type": "code",
   "execution_count": null,
   "metadata": {},
   "outputs": [],
   "source": []
  }
 ],
 "metadata": {
  "kernelspec": {
   "display_name": "Python 3 (ipykernel)",
   "language": "python",
   "name": "python3"
  },
  "language_info": {
   "codemirror_mode": {
    "name": "ipython",
    "version": 3
   },
   "file_extension": ".py",
   "mimetype": "text/x-python",
   "name": "python",
   "nbconvert_exporter": "python",
   "pygments_lexer": "ipython3",
   "version": "3.12.0"
  }
 },
 "nbformat": 4,
 "nbformat_minor": 4
}
