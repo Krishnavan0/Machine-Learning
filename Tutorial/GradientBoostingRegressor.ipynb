{
 "cells": [
  {
   "cell_type": "code",
   "execution_count": 7,
   "metadata": {},
   "outputs": [
    {
     "data": {
      "text/plain": [
       "'Create a predictive model using Gradient Boosting to forecast housing prices based on various features such as square footage, \\nnumber of bedrooms, number of bathrooms, and location.'"
      ]
     },
     "execution_count": 7,
     "metadata": {},
     "output_type": "execute_result"
    }
   ],
   "source": [
    "# Problem Statement\n",
    "'''Create a predictive model using Gradient Boosting to forecast housing prices based on various features such as square footage, \n",
    "number of bedrooms, number of bathrooms, and location.'''"
   ]
  },
  {
   "cell_type": "code",
   "execution_count": 8,
   "metadata": {},
   "outputs": [],
   "source": [
    "# step no 1\n",
    "import pandas as pd\n",
    "from sklearn.model_selection import train_test_split\n",
    "from sklearn.metrics import mean_squared_error\n",
    "from sklearn.ensemble import GradientBoostingRegressor"
   ]
  },
  {
   "cell_type": "code",
   "execution_count": 9,
   "metadata": {},
   "outputs": [],
   "source": [
    "# step no 2\n",
    "data = {'SquareFootage':[1500,2000,1200,1800,1350],\n",
    "        'Bedrooms':[3,4,2,3,3],\n",
    "        'Bathrooms':[2,2.5,1.5,2,2],\n",
    "        'Location':['Suburb','City','Rural','City','Suburb'],\n",
    "        # 'Location':['Dhanbad','Karkend','Kusunda','Kendua','Godhar'],\n",
    "        'Price':[250000,300000,180000,280000,220000],\n",
    "        }"
   ]
  },
  {
   "cell_type": "markdown",
   "metadata": {},
   "source": []
  },
  {
   "cell_type": "code",
   "execution_count": 10,
   "metadata": {},
   "outputs": [],
   "source": [
    "# step no 3\n",
    "data = pd.DataFrame(data)\n",
    "\n",
    "# step no 4 = converting the location column to dummy\n",
    "data = pd.get_dummies(data,columns=['Location'])\n",
    "\n",
    "# step no 5\n",
    "X = data.drop('Price',axis=1)\n",
    "Y = data['Price']\n",
    "\n",
    "# step no 6\n",
    "X_train, X_test, Y_train, Y_test = train_test_split(X,Y, test_size=0.2,random_state=42)\n",
    "\n",
    "model = GradientBoostingRegressor()\n",
    "\n",
    "model.fit(X_train,Y_train)\n",
    "Y_pred = model.predict(X_test)"
   ]
  },
  {
   "cell_type": "code",
   "execution_count": 11,
   "metadata": {},
   "outputs": [
    {
     "data": {
      "text/plain": [
       "400050468.2496885"
      ]
     },
     "execution_count": 11,
     "metadata": {},
     "output_type": "execute_result"
    }
   ],
   "source": [
    "mse = mean_squared_error(Y_test,Y_pred)\n",
    "mse"
   ]
  },
  {
   "cell_type": "code",
   "execution_count": 12,
   "metadata": {},
   "outputs": [
    {
     "name": "stdout",
     "output_type": "stream",
     "text": [
      "Enter the details for prediction\n"
     ]
    }
   ],
   "source": [
    "#user input\n",
    "print('Enter the details for prediction')\n",
    "sq_footage = float(input(\"Square Footage\"))\n",
    "bedrooms = float(input(\"Number of Bedrooms\"))\n",
    "bathrooms = float(input(\"Number of Bathrooms\"))\n",
    "location = input(\"Location (Suburb/City/Rural): \")"
   ]
  },
  {
   "cell_type": "code",
   "execution_count": 13,
   "metadata": {},
   "outputs": [],
   "source": [
    "input_location = [0,0,0]\n",
    "if location == 'Suburb':\n",
    "    input_location[0]=1\n",
    "elif location == 'City':\n",
    "    input_location[1]=1\n",
    "elif location == 'Rural':\n",
    "    input_location[2]=1"
   ]
  },
  {
   "cell_type": "code",
   "execution_count": 14,
   "metadata": {},
   "outputs": [],
   "source": [
    "user_input = pd.DataFrame({\n",
    "    'SquareFootage':[sq_footage],\n",
    "    'Bedrooms':[bedrooms],\n",
    "    'Bathrooms':[bathrooms],\n",
    "    'Location_City':[input_location[1]],\n",
    "    'Location_Rural':[input_location[2]],\n",
    "    'Location_Suburb':[input_location[0]],\n",
    "     })"
   ]
  },
  {
   "cell_type": "code",
   "execution_count": 15,
   "metadata": {},
   "outputs": [
    {
     "name": "stdout",
     "output_type": "stream",
     "text": [
      "Predicated Price for the House : 266563.83890996664\n"
     ]
    }
   ],
   "source": [
    "# make the predictation\n",
    "predicated_price = model.predict(user_input)\n",
    "print(f\"Predicated Price for the House : {predicated_price[0]}\")"
   ]
  }
 ],
 "metadata": {
  "kernelspec": {
   "display_name": "Python 3 (ipykernel)",
   "language": "python",
   "name": "python3"
  },
  "language_info": {
   "codemirror_mode": {
    "name": "ipython",
    "version": 3
   },
   "file_extension": ".py",
   "mimetype": "text/x-python",
   "name": "python",
   "nbconvert_exporter": "python",
   "pygments_lexer": "ipython3",
   "version": "3.12.0"
  }
 },
 "nbformat": 4,
 "nbformat_minor": 4
}
