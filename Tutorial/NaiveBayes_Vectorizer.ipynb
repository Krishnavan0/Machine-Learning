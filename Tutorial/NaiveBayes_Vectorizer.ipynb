{
 "cells": [
  {
   "cell_type": "code",
   "execution_count": null,
   "metadata": {},
   "outputs": [],
   "source": [
    "# Problem Statement\n",
    "'''A company is looking to develop a text classification model to categorize customer reviews into positive or negative statements. \n",
    "They want to use Naive Bayes classification to automatically analyze and classify the reviews they receive, aiming to understand \n",
    "customer satisfaction levels and sentiments. The company desires a model that can accurately predict whether a customer review expresses \n",
    "a positive or negative statement.'''"
   ]
  },
  {
   "cell_type": "code",
   "execution_count": null,
   "metadata": {},
   "outputs": [],
   "source": [
    "# step no 1\n",
    "import pandas as pd\n",
    "import numpy as np\n",
    "from sklearn.feature_extraction.text import CountVectorizer\n",
    "from sklearn.naive_bayes import MultinomialNB"
   ]
  },
  {
   "cell_type": "code",
   "execution_count": null,
   "metadata": {},
   "outputs": [],
   "source": [
    "# step no 2\n",
    "reviews = [\"The product is excellent and works perfectly\",\n",
    "          \"the product is not good, very disappointing\",\n",
    "          \"terrible product and waste of money\",\n",
    "          \"I love this product and it is amazing\"]\n",
    "\n",
    "sentiments = np.array([1,0,0,1])"
   ]
  },
  {
   "cell_type": "code",
   "execution_count": null,
   "metadata": {},
   "outputs": [],
   "source": [
    "# step no 3\n",
    "vectorizer = CountVectorizer()\n",
    "X = vectorizer.fit_transform(reviews)\n",
    "\n",
    "# step no 4\n",
    "classifer = MultinomialNB()\n",
    "classifer.fit(X,sentiments)\n",
    "\n",
    "# step no 5\n",
    "def classify_new_review(review):\n",
    "    review_vectorized = vectorizer.transform([review])\n",
    "    prediction = classifer.predict(review_vectorized)\n",
    "    if prediction[0] == 1:\n",
    "        return \"Positive Sentiments\"\n",
    "    else:\n",
    "        return \"Negative Sentiments\""
   ]
  },
  {
   "cell_type": "code",
   "execution_count": null,
   "metadata": {},
   "outputs": [],
   "source": [
    "# user input testing\n",
    "user_review = input(\"Enter your Reviews: \")\n",
    "result = classify_new_review(user_review)\n",
    "print(f\"The review '{user_review} is classfied as '{result}'\")"
   ]
  }
 ],
 "metadata": {
  "kernelspec": {
   "display_name": "Python 3 (ipykernel)",
   "language": "python",
   "name": "python3"
  },
  "language_info": {
   "codemirror_mode": {
    "name": "ipython",
    "version": 3
   },
   "file_extension": ".py",
   "mimetype": "text/x-python",
   "name": "python",
   "nbconvert_exporter": "python",
   "pygments_lexer": "ipython3",
   "version": "3.12.0"
  }
 },
 "nbformat": 4,
 "nbformat_minor": 4
}
